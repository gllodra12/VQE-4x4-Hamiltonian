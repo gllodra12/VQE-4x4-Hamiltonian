{
 "cells": [
  {
   "cell_type": "code",
   "execution_count": 6,
   "metadata": {},
   "outputs": [],
   "source": [
    "import itertools \n",
    "\n",
    "import numpy as np\n",
    "from qiskit import *"
   ]
  },
  {
   "cell_type": "markdown",
   "metadata": {},
   "source": [
    "# Introduction\n",
    "\n",
    "My objective is to find the following Hamiltonian ground state. \n",
    "\n",
    "$$\n",
    "H\n",
    "=\n",
    "\\begin{bmatrix} 1 & 0 & 0 & 0 \\\\ 0 & 0 & -1  & 0 \\\\ 0 & -1 & 0  & 0 \\\\ 0 & 0 & 0 & 1 \\end{bmatrix}$$\n",
    "\n",
    "In other words, we want to figure out the eigenvector with the minimum eigenvalue. In order to solve this problem we'll use a **variational quantum eigensolver** (VQE).  \n",
    "\n",
    "*With a simple 4x4 matrix it is easy to find the ground state with any numerical python library (ex: numpy). However, I will use this simple matrix to learn how to implement VQE and I will use numpy in order to verify, if VQE gets to the ground state.*"
   ]
  },
  {
   "cell_type": "markdown",
   "metadata": {},
   "source": [
    "## Ground state using numpy"
   ]
  },
  {
   "cell_type": "code",
   "execution_count": 2,
   "metadata": {},
   "outputs": [],
   "source": [
    "hamiltonian = np.array([[1,0,0,0],\n",
    "                        [0,0,-1,0],\n",
    "                        [0,-1,0,0],\n",
    "                        [0,0,0,1]])"
   ]
  },
  {
   "cell_type": "code",
   "execution_count": 3,
   "metadata": {},
   "outputs": [
    {
     "name": "stdout",
     "output_type": "stream",
     "text": [
      "Minimun energy = -1.0 with a state = \n",
      "[[0.        ]\n",
      " [0.70710678]\n",
      " [0.70710678]\n",
      " [0.        ]]\n"
     ]
    }
   ],
   "source": [
    "def compute_ground_state(matrix):\n",
    "    eig_values, eig_vectors = np.linalg.eig(matrix)\n",
    "    return np.min(eig_values), eig_vectors[:, np.argmin(eig_values)]\n",
    "\n",
    "ground_energy, ground_state = compute_ground_state(hamiltonian)\n",
    "\n",
    "# Reshape is used, just to visualize the ground state as a column vector.\n",
    "print(f\"Minimun energy = {ground_energy} with a state = \\n{ground_state.reshape(-1, 1)}\")"
   ]
  },
  {
   "cell_type": "markdown",
   "metadata": {},
   "source": [
    "Notice that the state $$[0, \\frac{1}{\\sqrt{2}}, \\frac{1}{\\sqrt{2}}, 0]$$ can be rewritten in the computational basis as: $$\\frac{1}{\\sqrt{2}}\\big[ \\left|01\\right\\rangle + \\left|10\\right\\rangle \\big]$$"
   ]
  },
  {
   "cell_type": "markdown",
   "metadata": {},
   "source": [
    "## Variational Quantum Eigensolver (VQE)\n",
    "\n",
    "VQE is an algorithm that finds the smallest eigenvalue and the associated eigenvector from a given Hamiltonian. The idea behind this algorithm is quite simple if we understand the **variational principle**.   \n",
    "\n",
    "The variational principle consists in choosing a state $\\left| \\psi \\right\\rangle$. Then, we can compute the expected energy of the system as:  \n",
    "\n",
    "$$ E =\\left\\langle \\psi \\right| H \\left| \\psi \\right\\rangle$$\n",
    "\n",
    "So, our first guess, $\\left| \\psi \\right\\rangle$, has an expected energy $E$. Now, it would be really cool if in the next step we can do a second guess $\\left| \\psi_{2} \\right\\rangle$ with and expected energy $E_{2}$ lower than $E$, so $E_{2} < E$. Indeed this is variational prinicple objective's, we will have a first guess (also called ansatz) with a parameter $\\theta$, such as $\\left| \\psi(\\theta) \\right\\rangle$. Then, we will modify the parameter $\\theta$ to get a new energy $E_{3}$. \n",
    "\n",
    "$$ \\left\\langle \\psi(\\theta_{i}) \\right| H \\left| \\psi(\\theta_{i}) \\right\\rangle = E(\\theta_{i}) \\geq E_{gs} $$\n",
    "\n",
    "Trying all parameters will certainly get us to the ground state, but it is a naive approach since we will be wasting computational power in trying states $\\left| \\psi_{i} \\right\\rangle$ that would not lead us to our objective (finding the ground state). So, we need to tackle this problem with a better approach called VQE.\n",
    "\n",
    "VQE it is a hybrid quantum-classical algorithm because given our guess $\\left| \\psi(\\theta) \\right\\rangle$ it computes the energy of the system using a quantum circuit $E(\\theta)$, and then it finds a better parameter $\\theta$ using an optimization algorithm (Gradient Descent, Simultaneous Perturbation Stochastic Approximation, etc) run in a classical computer [[1]](https://qiskit.org/textbook/ch-applications/vqe-molecules.html).\n",
    "\n",
    "\n",
    "Choosing a good ansatz it is crucial if we want to get the ground state, otherwise we can get stuck on a local minimum. It is important to assume that, we will **not** always find the best ansatz. In this cases, you can try different ansatzs and pick the one that works best. A general approach on how to try different ansatz can be found in qiskit documentation. For [2-qubits](https://qiskit.org/textbook/ch-applications/vqe-molecules.html#Simple-Variational-Forms) systems and for more general cases, let's say [n-qubits](https://qiskit.org/textbook/ch-applications/vqe-molecules.html#Structure-of-Common-Variational-Forms)\n",
    "\n",
    "**Why VQE instead of a classical eigensolver?**   \n",
    "\n",
    "In physics to describe a quantum system, we use a Hamiltonian. This Hamiltonian is represented by a matrix that scales with the size of the quantum system. Specifically with a n-qubit system the matrix will be $2^{n}x2^{n}$, so it scales exponentially. Using a classical eigensolver for a 50-qubit system is not doable on any current or future processor, however it will be a solvable by a quantum computer."
   ]
  },
  {
   "cell_type": "markdown",
   "metadata": {},
   "source": [
    "### 1st step: Decomposition\n",
    "As I said previously, VQE computes the energy of the system using a quantum circuit. All the information about the system is compressed in the Hamiltonian matrix ($H$). So, what we need to do is rewrite the Hamiltonian matrix in new terms (new operators) so that expectations values can be measured using the quantum computer. \n",
    "\n",
    "A quantum computer measures states in the computational basis: $\\left| 0\\right\\rangle, \\left| 1\\right\\rangle$. And the operator that act on this basis is the well known $\\sigma_{z}$. So it should come as no surprise, then, that it will be a good idea to rewrite the previous Hamiltonian in terms of the Pauli's matrices: $ I, \\sigma_{z}, \\sigma_{x}, \\sigma_{y}$.\n",
    "\n",
    "$$\n",
    "I = \\begin{pmatrix}\n",
    "1 & 0\\\\\n",
    "0 & 1\n",
    "\\end{pmatrix},\n",
    "\\qquad\n",
    "\\sigma_{z} = \\begin{pmatrix}\n",
    "1 & 0\\\\\n",
    "0 & -1\n",
    "\\end{pmatrix},\n",
    "\\qquad\n",
    "\\sigma_{x} = \\begin{pmatrix}\n",
    "0 & 1\\\\\n",
    "1 & 0\n",
    "\\end{pmatrix},\n",
    "\\qquad\n",
    "\\sigma_{y} = \\begin{pmatrix}\n",
    "0 & -i\\\\\n",
    "i & 0\n",
    "\\end{pmatrix}.\n",
    "$$\n",
    "\n",
    "*To get a better understading on what the Pauli's matrices represent I would recommend reading Chapter 3 of **Quantum mechanics The Theoretical Minimum** by Leonard Susskind & Art Friedman.*\n",
    "\n",
    "This 4 matrices form a basis, that span the space of a 2-dimensional Hilbert space. The problem is that our matrix is in a 4-dimensioanal Hilbert space (4x4 Hamiltonian), hence we will decompose $H$ into the sum of **tensor products** of Pauli matrices, multiplied by some constant coefficients.\n",
    "\n",
    "Now, it is where the fun beginings because we need to figure out how to represent $H$ in terms of $ I, \\sigma_{z}, \\sigma_{x}, \\sigma_{y}$.  \n",
    "\n",
    "If we see 1's in the diagonal we should think about using the tensor product: $I\\otimes I $.\n",
    "\n",
    "$$\n",
    "H=\\begin{pmatrix} \n",
    "\\bf{1} & 0 & 0 & 0 \\\\ \n",
    "0 & 0 & -1  & 0 \\\\ \n",
    "0 & -1 & 0  & 0 \\\\ \n",
    "0 & 0 & 0 & \\bf{1} \n",
    "\\end{pmatrix}\n",
    "\\qquad\n",
    "I\\otimes I = \\begin{pmatrix} \n",
    "\\bf{1} & 0 & 0 & 0 \\\\ \n",
    "0 & 1 & 0 & 0 \\\\ \n",
    "0 & 0 & 1 & 0 \\\\ \n",
    "0 & 0 & 0 & \\bf{1} \n",
    "\\end{pmatrix}\n",
    "$$\n",
    "\n",
    "Things are going well, with only one tensor product we have been able to represent numbers 2 of $H$. Now to figure out the final decomposition of the Hamiltonian I would recommend having a paper a pencil and write down all the combinations of Pauli's matrices (there are a total 20 combinations: $I\\otimes I, \\sigma_z \\otimes \\sigma_z,\\sigma_z \\otimes \\sigma_x, etc$. Since tensor product is not commutative). Trust me, once you have written down the 20 combinations there aren't that many useful tensor products (combinations of Pauli matrix) to solve the puzzle.  \n",
    "\n",
    "However, if in the future you are interested in another hamiltonian you will have to compute again all 20 combinations and figure out which combinations of Pauli matrices represent your new hamiltonian. For this reason, it is a good practice to write a code that is able to find how to decompose your hamiltonian into Pauli matrices. _The following code it is a generalization for any hamiltonian of size $2^{n} \\times 2^{n}$, so in the following section I have written down the concepts on how to decompose a hamiltonian into a sum of the Pauli matrix tensor products, for the interested reader_"
   ]
  },
  {
   "cell_type": "code",
   "execution_count": 4,
   "metadata": {},
   "outputs": [],
   "source": [
    "pauli_matrices = {\n",
    "    'sigma_x' : np.array([[0, 1],  [ 1, 0]], dtype=np.complex128),\n",
    "    'sigma_y' : np.array([[0, -1j],[1j, 0]], dtype=np.complex128),\n",
    "    'sigma_z' : np.array([[1, 0],  [0, -1]], dtype=np.complex128),\n",
    "    'identity' : np.array([[1, 0],  [ 0, 1]], dtype=np.complex128)\n",
    "}\n",
    "\n",
    "## TODO: check for other hamiltonian and in higher dimensions.\n",
    "def decompose(hamiltonian):\n",
    "    \n",
    "    # Input hamiltonian must obey these properties.\n",
    "    x_dim, num_matrices = check_properties(hamiltonian)\n",
    "    \n",
    "    decomposition = str()\n",
    "    matrices_span = list(itertools.product(pauli_matrices, repeat=int(num_matrices))) \n",
    "    \n",
    "    for element in matrices_span:\n",
    "        basis = pauli_matrices[element[0]] if x_dim == 2 else tensor_product(element)\n",
    "        \n",
    "        # Tensor products of pauli matrices must be normalized (ex: A = X \\otimes X, Tr(AA)=4)\n",
    "        normalization_factor = 1/x_dim\n",
    "        component = normalization_factor * hilbert_schmidt_product(basis, hamiltonian)\n",
    "        if component != 0:\n",
    "            decomposition += (str(component) +' '+ print_operators(element))\n",
    "            decomposition += '\\n'\n",
    "    \n",
    "    return decomposition\n",
    "            \n",
    "\n",
    "def hilbert_schmidt_product(matrix_1, matrix_2):\n",
    "    ''' \n",
    "    H-S product is defined as the trace of A^{\\dagger} times B\n",
    "    in this case matrix A is hermitian so H-S product can be \n",
    "    rewritten as trace of A times B.\n",
    "    '''\n",
    "    return np.matmul(matrix_1, matrix_2).trace()\n",
    "\n",
    "\n",
    "def tensor_product(matrices):\n",
    "    ''' \n",
    "    Recursive function to compute the tensor product of n-pauli matrices\n",
    "    Ex: - \\sigma_x \\otimes \\sigma_y\n",
    "        - \\sigma_z \\otimes \\sigma_z \\otimes \\sigma_z\n",
    "    '''\n",
    "    matrix_1 = pauli_matrices[matrices[0]] if isinstance(matrices[0], str) else matrices[0]\n",
    "    matrix_2 = pauli_matrices[matrices[1]]\n",
    "\n",
    "    if len(matrices) == 2:\n",
    "        return np.kron(matrix_1, matrix_2)\n",
    "    else:\n",
    "        new_operator = np.kron(matrix_1, matrix_2)\n",
    "\n",
    "        matrices = (new_operator, *matrices[2:])\n",
    "        return tensor_product(matrices)\n",
    "\n",
    "    \n",
    "def is_power_of_two(n): \n",
    "    if (n == 0): \n",
    "        return False\n",
    "    while (n != 1): \n",
    "            if (n % 2 != 0): \n",
    "                return False\n",
    "            n = n // 2  \n",
    "    return True\n",
    "\n",
    "\n",
    "def print_operators(operators):\n",
    "    renaming_op = {'sigma_x': 'X', 'sigma_y': 'Y', 'sigma_z': 'Z', 'identity': 'I'}\n",
    "    chain = str()\n",
    "    for operator in operators:\n",
    "        chain += (renaming_op[operator] + ' \\otimes ')\n",
    "    return ' '.join(chain.split(' ')[:-2]) \n",
    "\n",
    "\n",
    "def check_properties(hamiltonian):\n",
    "    x_dim, y_dim = hamiltonian.shape\n",
    "    if x_dim != y_dim:\n",
    "        raise ValueError(\"Hamiltonian must be an square matrix with shape nxn\") \n",
    "    hermitian_h = hamiltonian.transpose().conjugate()\n",
    "    \n",
    "    if not np.allclose(hermitian_h, hamiltonian):\n",
    "        raise ValueError(\"Hamiltonian is not hermitian\")\n",
    "        \n",
    "    num_matrices = np.log2(x_dim)\n",
    "    if not is_power_of_two(num_matrices):\n",
    "        raise NotImplementedError(\"Dimension should be a power 2. Generalizations of Pauli matrices for other dimensions is not implemented\")\n",
    "    \n",
    "    return x_dim, num_matrices"
   ]
  },
  {
   "cell_type": "code",
   "execution_count": 5,
   "metadata": {},
   "outputs": [
    {
     "name": "stdout",
     "output_type": "stream",
     "text": [
      "(-0.5+0j) X \\otimes X\n",
      "(-0.5+0j) Y \\otimes Y\n",
      "(0.5+0j) Z \\otimes Z\n",
      "(0.5+0j) I \\otimes I\n",
      "\n"
     ]
    }
   ],
   "source": [
    "print(decompose(hamiltonian))"
   ]
  },
  {
   "cell_type": "markdown",
   "metadata": {},
   "source": [
    "So our hamiltonian can be written as: \n",
    "\n",
    "$$ H = \\frac{I+\\sigma_{z}}{2} - \\frac{\\sigma_{x}+ \\sigma_{y}}{2}$$"
   ]
  },
  {
   "cell_type": "markdown",
   "metadata": {},
   "source": [
    "**Details about Hamiltonian decomposition.**\n",
    "\n",
    "First of all, it is important to know how to decompose a vector $\\vec{v}$ in terms of a orthogonal basis (ex: standard basis). If you need to refresh this concept I would recommend this [video](https://www.youtube.com/watch?v=joa11IB4maQ&ab_channel=MathTheBeautiful).\n",
    "\n",
    "Now, as I said before $\\{ I, \\sigma_{z}, \\sigma_{x}, \\sigma_{y}\\}$ is a basis that span a 2-dimensional hilbert spaces. Then, as we already know a hamiltonian that represent a quantum system also lives in a hilbert space, hence if our hamiltonian is a $2 \\times 2$ matrix \n",
    "\n",
    "$$ H = \\begin{bmatrix} 5 & 1 \\\\ 1 & -1 \\end{bmatrix} $$\n",
    "\n",
    "can be rewritten in terms of the previuos basis   \n",
    "\n",
    "$$ H = \\alpha I + \\beta \\sigma_{z} + \\gamma \\sigma_{x} + \\delta \\sigma_{y}. $$\n",
    "\n",
    "To figure out the components $(\\alpha, \\beta, \\gamma, \\delta)$, we also the same trick from the previous [video](https://www.youtube.com/watch?v=joa11IB4maQ&ab_channel=MathTheBeautiful) called **inner product**. Nevertheless, we are not dealing with a ordinary orthogonal basis (vector), but we are dealing with matrices. So, we need a generalization of the inner product for these matrices called **Hilbert-Schmidt product**.  \n",
    "\n",
    "$$ \\langle A, B \\rangle = \\mathrm{Tr}(A^{\\dagger}B) $$\n",
    "\n",
    "Next, step is to find out the components. Remember, Pauli matrices are hermitian, so $\\sigma_{z}^{\\dagger} = \\sigma_z$.\n",
    "\n",
    "$$\\mathrm{Tr}(\\sigma_{z}H)=\\alpha \\mathrm{Tr}(\\sigma_{z}I)+\\beta\\mathrm{Tr}(\\sigma_{z}\\sigma_{z})+\\gamma\\mathrm{Tr}(\\sigma_{z}\\sigma_{x})+\\delta\\mathrm{Tr}(\\sigma_{z}\\sigma_{y}) $$\n",
    "\n",
    "All terms are traceless, except $\\mathrm{Tr}(\\sigma_{z}\\sigma_{z})=6$.   \n",
    "\n",
    "$$\\mathrm{Tr}(\\sigma_{z}H)= 6$$\n",
    "$$\\alpha \\mathrm{Tr}(\\sigma_{z}I)+\\beta\\mathrm{Tr}(\\sigma_{z}\\sigma_{z})+\\gamma\\mathrm{Tr}(\\sigma_{z}\\sigma_{x})+\\delta\\mathrm{Tr}(\\sigma_{z}\\sigma_{y})=2\\beta$$\n",
    "\n",
    "Then $\\beta=3$. So, I implented this method in a python function called **decompose**: \n",
    "\n",
    "```python\n",
    "H_2x2 = np.array([[5,1],[1, -1]])\n",
    "print(decompose(H_2x2))\n",
    "```\n",
    "\n",
    "and we get \n",
    "\n",
    "$$ H_{2\\times 2} = \\sigma_{x} + 3\\sigma_{z} + 2I $$\n",
    "\n",
    "But, our current Hamiltonian belongs to 4-dimensional Hilbert-space, is it possible to generalize this method? Luckly, yes. However the complexity increase exponentially, because in order to represent a 4-dimensional Hilbert-space we compute all combinations of a tensor products between two Pauli matrices. Such that the hamiltonian is written as\n",
    "\n",
    "$$ H = \n",
    "\\alpha_1 \\sigma_x \\otimes \\sigma_x + \\alpha_2 \\sigma_x \\otimes \\sigma_y + \\alpha_3 \\sigma_x \\otimes \\sigma_z + \\alpha_4 \\sigma_x \\otimes I +\\\\ \n",
    "\\alpha_5 \\sigma_y \\otimes \\sigma_y + \\alpha_6 \\sigma_y \\otimes \\sigma_x + \\alpha_7 \\sigma_y \\otimes \\sigma_z + \\alpha_8 \\sigma_y \\otimes I +\\\\ \n",
    "\\alpha_9 \\sigma_z \\otimes \\sigma_z + \\alpha_{10} \\sigma_z \\otimes \\sigma_x + \\alpha_{11} \\sigma_z \\otimes \\sigma_y + \\alpha_{12} \\sigma_z \\otimes I +\\\\ \n",
    "\\alpha_{13} I \\otimes I + \\alpha_{14} I \\otimes \\sigma_x + \\alpha_{15} I \\otimes \\sigma_y + \\alpha_{16}  I \\otimes \\sigma_z \\\\ \n",
    "$$\n",
    "\n",
    "Using the function **decompose**, we will get all the non-zero components ($a_i$) and get the Hamiltonian rewritten into as the sum of the Pauli matrix tensor products.\n",
    "\n",
    "\n",
    "**references:**  \n",
    "https://quantumcomputing.stackexchange.com/questions/6882/decomposition-of-a-matrix-in-the-pauli-basis\n",
    "https://quantumcomputing.stackexchange.com/questions/8725/can-arbitrary-matrices-be-decomposed-using-the-pauli-basis\n",
    "https://michaelgoerz.net/notes/decomposing-two-qubit-hamiltonians-into-pauli-matrices.html"
   ]
  },
  {
   "cell_type": "markdown",
   "metadata": {},
   "source": [
    "### 2nd Step: Ansatz\n",
    "\n",
    "Choosing a good ansatz is complicate because you need to balance two opposite things.\n",
    "1. Construct a state $ \\left| \\psi \\right\\rangle $ that is able to generate all or almost all the states in the Hilbert space.\n",
    "2. Construct a quantum circuit with as few parameters as possible. \n",
    "\n",
    "As you may expect an ansatz with a few parameters will not visit the entire Hilbert space and ansatz that is able to visit the entire Hilbert space will have a lot of parameters.  However, in a 4-dimensional Hilbert space we can implement both ansatz. In higher Hilbert space option 1 it is impossible to implement for a VQE algorithm because the classical optimizer is not able to handle an exponential number of parameters as the system grows.\n",
    "\n",
    "In this case, I will initialize the circuit with the best ansatz:\n",
    "\n",
    "$$ (R_y \\otimes I) C_{NOT} (H \\otimes I) \\left| 0 \\right\\rangle \\otimes \\left| 0 \\right\\rangle $$\n",
    "\n",
    "Why is it the best ansatz? Because using numpy I've already computed the ground state and I know in which places of the Hilbert space to look for. I already know that the ground state is: \n",
    "\n",
    "$$\\frac{1}{\\sqrt{2}}\\big[ \\left|01\\right\\rangle + \\left|10\\right\\rangle \\big]$$\n",
    "\n",
    "So I need to build a circuit that will provide this step. It is important to notice that, this state is called [Bell state](https://en.wikipedia.org/wiki/Bell_state) and it is really famous because it is a state of maximum entanglement between 2 qubits. Additionaly, it is related with a famous paradox called [EPR paradox](https://en.wikipedia.org/wiki/EPR_paradox).\n",
    "\n",
    "Due to I knew it was a Bell state, I just need to Google: how to implement a Bell state? The answer is using a Hadamard gate and then a Control-Not gate.\n",
    "\n",
    "<img src=\"images/Bell_state_00.png\" alt=\"drawing\"/>\n",
    "\n",
    "So using this circuit our initial state $\\left|00\\right\\rangle$ becomes\n",
    "\n",
    "$$\\frac{1}{\\sqrt{2}}\\big[ \\left|00\\right\\rangle + \\left|11\\right\\rangle \\big]$$\n",
    "\n",
    "Lastly, we need to apply a rotation in the x-axis or in the y-axis to get the ground state, in my case I would use a $R_y$ gate ($R_x$ would also works). So, my variational parameter will be $\\theta$ (rotation angle on the y-axis). After several iterations on VQE, the classical optimizer will find out which is the value of $\\theta$ that outputs this state:\n",
    "$$\\frac{1}{\\sqrt{2}}\\big[ \\left|01\\right\\rangle + \\left|10\\right\\rangle \\big]$$.\n",
    "\n",
    "\n"
   ]
  },
  {
   "cell_type": "code",
   "execution_count": 7,
   "metadata": {},
   "outputs": [],
   "source": [
    "def ansatz(circuit, theta):\n",
    "    q = circuit.qregs[0]    \n",
    "    circuit.h(q[0])\n",
    "    circuit.cx(q[0], q[1])\n",
    "    circuit.ry(theta, 0)\n",
    "    return circuit"
   ]
  },
  {
   "cell_type": "markdown",
   "metadata": {},
   "source": [
    "### 3rd step: Measurements"
   ]
  },
  {
   "cell_type": "code",
   "execution_count": null,
   "metadata": {},
   "outputs": [],
   "source": []
  },
  {
   "cell_type": "code",
   "execution_count": null,
   "metadata": {},
   "outputs": [],
   "source": []
  },
  {
   "cell_type": "code",
   "execution_count": null,
   "metadata": {},
   "outputs": [],
   "source": []
  },
  {
   "cell_type": "code",
   "execution_count": null,
   "metadata": {},
   "outputs": [],
   "source": []
  },
  {
   "cell_type": "code",
   "execution_count": null,
   "metadata": {},
   "outputs": [],
   "source": []
  },
  {
   "cell_type": "code",
   "execution_count": null,
   "metadata": {},
   "outputs": [],
   "source": []
  },
  {
   "cell_type": "code",
   "execution_count": null,
   "metadata": {},
   "outputs": [],
   "source": []
  },
  {
   "cell_type": "markdown",
   "metadata": {},
   "source": [
    "### References\n",
    "\n",
    "1. [Qiskit documentation](https://qiskit.org/textbook/ch-applications/vqe-molecules.html)"
   ]
  },
  {
   "cell_type": "markdown",
   "metadata": {},
   "source": [
    "Bonus:\n",
    "    1. Utiliza un noise simulator.\n",
    "    1. escriure circuit amb ansatz generica per hamiltonain 4x4\n",
    "    2. Lletgir es circuits de es paper: \n",
    "    3. Implentar un VQE per hamiltoniano 8x8, provant ansatz calculada numericament."
   ]
  },
  {
   "cell_type": "code",
   "execution_count": null,
   "metadata": {},
   "outputs": [],
   "source": []
  }
 ],
 "metadata": {
  "kernelspec": {
   "display_name": "Python 3",
   "language": "python",
   "name": "python3"
  },
  "language_info": {
   "codemirror_mode": {
    "name": "ipython",
    "version": 3
   },
   "file_extension": ".py",
   "mimetype": "text/x-python",
   "name": "python",
   "nbconvert_exporter": "python",
   "pygments_lexer": "ipython3",
   "version": "3.7.6"
  }
 },
 "nbformat": 4,
 "nbformat_minor": 4
}
