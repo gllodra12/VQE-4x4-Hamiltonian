{
 "cells": [
  {
   "cell_type": "code",
   "execution_count": 1,
   "metadata": {},
   "outputs": [],
   "source": [
    "%matplotlib inline\n",
    "\n",
    "import itertools \n",
    "\n",
    "import matplotlib.pyplot as plt\n",
    "import numpy as np\n",
    "from qiskit import Aer, BasicAer, ClassicalRegister, execute, IBMQ, QuantumCircuit, QuantumRegister \n",
    "from qiskit.circuit.library.standard_gates import U2Gate\n",
    "from qiskit.providers.aer.noise import NoiseModel\n",
    "from qiskit.tools.visualization import plot_histogram\n",
    "from qiskit.visualization.bloch import Bloch\n",
    "\n",
    "from scipy.optimize import minimize"
   ]
  },
  {
   "cell_type": "markdown",
   "metadata": {},
   "source": [
    "# Introduction\n",
    "\n",
    "My objective is to find the following Hamiltonian ground state. \n",
    "\n",
    "$$\n",
    "H\n",
    "=\n",
    "\\begin{bmatrix} 1 & 0 & 0 & 0 \\\\ 0 & 0 & -1  & 0 \\\\ 0 & -1 & 0  & 0 \\\\ 0 & 0 & 0 & 1 \\end{bmatrix}$$\n",
    "\n",
    "In other words, we want to figure out the eigenvector with the minimum eigenvalue. In order to solve this problem, we'll use a **variational quantum eigensolver** (VQE).  \n",
    "\n",
    "*With a simple 4x4 matrix it is easy to find the ground state with any numerical python library (ex: numpy). However, I will use this simple matrix to learn how to implement VQE and I will use numpy in order to verify, if VQE gets to the ground state.*"
   ]
  },
  {
   "cell_type": "markdown",
   "metadata": {},
   "source": [
    "## Ground state using numpy"
   ]
  },
  {
   "cell_type": "code",
   "execution_count": 2,
   "metadata": {},
   "outputs": [],
   "source": [
    "hamiltonian = np.array([[1,0,0,0],\n",
    "                        [0,0,-1,0],\n",
    "                        [0,-1,0,0],\n",
    "                        [0,0,0,1]])"
   ]
  },
  {
   "cell_type": "code",
   "execution_count": 3,
   "metadata": {},
   "outputs": [
    {
     "name": "stdout",
     "output_type": "stream",
     "text": [
      "Minimun energy = -1.0 with a state = \n",
      "[[0.        ]\n",
      " [0.70710678]\n",
      " [0.70710678]\n",
      " [0.        ]]\n"
     ]
    }
   ],
   "source": [
    "def compute_ground_state(matrix):\n",
    "    eig_values, eig_vectors = np.linalg.eig(matrix)\n",
    "    return np.min(eig_values), eig_vectors[:, np.argmin(eig_values)]\n",
    "\n",
    "ground_energy, ground_state = compute_ground_state(hamiltonian)\n",
    "\n",
    "# Reshape is used, just to visualize the ground state as a column vector.\n",
    "print(f\"Minimun energy = {ground_energy} with a state = \\n{ground_state.reshape(-1, 1)}\")"
   ]
  },
  {
   "cell_type": "markdown",
   "metadata": {},
   "source": [
    "Notice that the state $$[0, \\frac{1}{\\sqrt{2}}, \\frac{1}{\\sqrt{2}}, 0]$$ can be rewritten in the computational basis as: $$\\frac{1}{\\sqrt{2}}\\big[ \\left|01\\right\\rangle + \\left|10\\right\\rangle \\big]$$"
   ]
  },
  {
   "cell_type": "markdown",
   "metadata": {},
   "source": [
    "## Variational Quantum Eigensolver (VQE)\n",
    "\n",
    "\n",
    "VQE is an algorithm that finds the smallest eigenvalue and the associated eigenvector from a given Hamiltonian. The idea behind this algorithm is quite simple if we understand the **variational principle**.   \n",
    "\n",
    "The variational principle consists in choosing a state $\\left| \\psi \\right\\rangle$. Then, we can compute the expected energy of the system as:  \n",
    "\n",
    "$$ E =\\left\\langle \\psi \\right| H \\left| \\psi \\right\\rangle$$\n",
    "\n",
    "So, our first guess, $\\left| \\psi \\right\\rangle$, has an expected energy $E$. Now, it would be really cool if in the next step we can do a second guess $\\left| \\psi_{2} \\right\\rangle$ with and expected energy $E_{2}$ lower than $E$, so $E_{2} < E$. Indeed this is variational prinicple objective's, we will have a first guess (also called ansatz) with a parameter $\\theta$, such as $\\left| \\psi(\\theta) \\right\\rangle$. Then, we will modify the parameter $\\theta$ to get a new energy $E_{3}$. \n",
    "\n",
    "$$ \\left\\langle \\psi(\\theta_{i}) \\right| H \\left| \\psi(\\theta_{i}) \\right\\rangle = E(\\theta_{i}) \\geq E_{gs} $$\n",
    "\n",
    "Trying all parameters will certainly get us to the ground state, but it is a naive approach since we will be wasting computational power in trying states $\\left| \\psi_{i} \\right\\rangle$ that would not lead us to our objective (finding the ground state). So, we need to tackle this problem with a better approach called VQE.\n",
    "\n",
    "VQE it is a hybrid quantum-classical algorithm because given our guess $\\left| \\psi(\\theta) \\right\\rangle$ it computes the energy of the system using a quantum circuit $E(\\theta)$, and then it finds a better parameter $\\theta$ using an optimization algorithm (Gradient Descent, Simultaneous Perturbation Stochastic Approximation, etc) run in a classical computer [[1]](https://qiskit.org/textbook/ch-applications/vqe-molecules.html).\n",
    "\n",
    "\n",
    "Choosing a good ansatz it is crucial if we want to get the ground state, otherwise, we can get stuck on a local minimum. It is important to assume that, we will **not** always find the best ansatz. In these cases, you can try different ansatzes and pick the one that works best. A general approach on how to try different ansatz can be found in qiskit documentation. For [2-qubits](https://qiskit.org/textbook/ch-applications/vqe-molecules.html#Simple-Variational-Forms) systems and for more general cases, let's say [n-qubits](https://qiskit.org/textbook/ch-applications/vqe-molecules.html#Structure-of-Common-Variational-Forms)\n",
    "\n",
    "**Why VQE instead of a classical eigensolver?**   \n",
    "\n",
    "In physics to describe a quantum system, we use a Hamiltonian. This Hamiltonian is represented by a matrix that scales with the size of the quantum system. Specifically, with an n-qubit system the matrix will be $2^{n}x2^{n}$, so it scales exponentially. Using a classical eigensolver for a 50-qubit system is not doable on any current or future processor, however it will be solvable by a quantum computer."
   ]
  },
  {
   "cell_type": "markdown",
   "metadata": {},
   "source": [
    "### 1st step: Decomposition\n",
    "As I said previously, VQE computes the energy of the system using a quantum circuit. All the information about the system is compressed in the Hamiltonian matrix ($H$). So, what we need to do is rewrite the Hamiltonian matrix in new terms (new operators) so that expectations values can be measured using the quantum computer. \n",
    "\n",
    "A quantum computer measures states in the computational basis: $\\left| 0\\right\\rangle, \\left| 1\\right\\rangle$. And the operator that acts on this basis is the well known $\\sigma_{z}$. So it should come as no surprise, then, that it will be a good idea to rewrite the previous Hamiltonian in terms of Pauli's matrices: $ I, \\sigma_{z}, \\sigma_{x}, \\sigma_{y}$.\n",
    "\n",
    "$$\n",
    "I = \\begin{pmatrix}\n",
    "1 & 0\\\\\n",
    "0 & 1\n",
    "\\end{pmatrix},\n",
    "\\qquad\n",
    "\\sigma_{z} = \\begin{pmatrix}\n",
    "1 & 0\\\\\n",
    "0 & -1\n",
    "\\end{pmatrix},\n",
    "\\qquad\n",
    "\\sigma_{x} = \\begin{pmatrix}\n",
    "0 & 1\\\\\n",
    "1 & 0\n",
    "\\end{pmatrix},\n",
    "\\qquad\n",
    "\\sigma_{y} = \\begin{pmatrix}\n",
    "0 & -i\\\\\n",
    "i & 0\n",
    "\\end{pmatrix}.\n",
    "$$\n",
    "\n",
    "*To get a better understanding on what Pauli's matrices represent I would recommend reading Chapter 3 of **Quantum mechanics The Theoretical Minimum** by Leonard Susskind & Art Friedman.*\n",
    "\n",
    "This 4 matrices form a basis, that span the space of a 2-dimensional Hilbert space. The problem is that our matrix is in a 4-dimensional Hilbert space (4x4 Hamiltonian), hence we will decompose $H$ into the sum of **tensor products** of Pauli matrices, multiplied by some constant coefficients.\n",
    "\n",
    "Now, it is where the fun begins because we need to figure out how to represent $H$ in terms of $ I, \\sigma_{z}, \\sigma_{x}, \\sigma_{y}$.  \n",
    "\n",
    "If we see 1's in the diagonal we should think about using the tensor product: $I\\otimes I $.\n",
    "\n",
    "$$\n",
    "H=\\begin{pmatrix} \n",
    "\\bf{1} & 0 & 0 & 0 \\\\ \n",
    "0 & 0 & -1  & 0 \\\\ \n",
    "0 & -1 & 0  & 0 \\\\ \n",
    "0 & 0 & 0 & \\bf{1} \n",
    "\\end{pmatrix}\n",
    "\\qquad\n",
    "I\\otimes I = \\begin{pmatrix} \n",
    "\\bf{1} & 0 & 0 & 0 \\\\ \n",
    "0 & 1 & 0 & 0 \\\\ \n",
    "0 & 0 & 1 & 0 \\\\ \n",
    "0 & 0 & 0 & \\bf{1} \n",
    "\\end{pmatrix}\n",
    "$$\n",
    "\n",
    "Things are going well, with only one tensor product we have been able to represent numbers 2 of $H$. Now to figure out the final decomposition of the Hamiltonian I would recommend having a paper a pencil and write down all the combinations of Pauli's matrices (there are a total 20 combinations: $I\\otimes I, \\sigma_z \\otimes \\sigma_z,\\sigma_z \\otimes \\sigma_x, etc$. Since the tensor product is not commutative). Trust me, once you have written down the 20 combinations there aren't that many useful tensor products (combinations of Pauli matrix) to solve the puzzle.  \n",
    "\n",
    "However, if in the future you are interested in another hamiltonian you will have to compute again all 20 combinations and figure out which combinations of Pauli matrices represent your new hamiltonian. For this reason, it is a good practice to write a code that is able to find how to decompose your hamiltonian into Pauli matrices. _The following code it is a generalization for any hamiltonian of size $2^{n} \\times 2^{n}$, so in the following section, I have written down the concepts on how to decompose a hamiltonian into a sum of the Pauli matrix tensor products, for the interested reader_"
   ]
  },
  {
   "cell_type": "code",
   "execution_count": 4,
   "metadata": {},
   "outputs": [],
   "source": [
    "pauli_matrices = {\n",
    "    'sigma_x' : np.array([[0, 1],  [ 1, 0]], dtype=np.complex128),\n",
    "    'sigma_y' : np.array([[0, -1j],[1j, 0]], dtype=np.complex128),\n",
    "    'sigma_z' : np.array([[1, 0],  [0, -1]], dtype=np.complex128),\n",
    "    'identity' : np.array([[1, 0],  [ 0, 1]], dtype=np.complex128)\n",
    "}\n",
    "\n",
    "## TODO: check for other hamiltonian and in higher dimensions.\n",
    "def decompose(hamiltonian):\n",
    "    \n",
    "    # Input hamiltonian must obey these properties.\n",
    "    x_dim, num_matrices = check_properties(hamiltonian)\n",
    "    \n",
    "    decomposition = str()\n",
    "    matrices_span = list(itertools.product(pauli_matrices, repeat=int(num_matrices))) \n",
    "    \n",
    "    for element in matrices_span:\n",
    "        basis = pauli_matrices[element[0]] if x_dim == 2 else tensor_product(element)\n",
    "        \n",
    "        # Tensor products of pauli matrices must be normalized (ex: A = X \\otimes X, Tr(AA)=4)\n",
    "        normalization_factor = 1/x_dim\n",
    "        component = normalization_factor * hilbert_schmidt_product(basis, hamiltonian)\n",
    "        if component != 0:\n",
    "            decomposition += (str(component) +' '+ print_operators(element))\n",
    "            decomposition += '\\n'\n",
    "    \n",
    "    return decomposition\n",
    "            \n",
    "\n",
    "def hilbert_schmidt_product(matrix_1, matrix_2):\n",
    "    ''' \n",
    "    H-S product is defined as the trace of A^{\\dagger} times B\n",
    "    in this case matrix A is hermitian so H-S product can be \n",
    "    rewritten as trace of A times B.\n",
    "    '''\n",
    "    return np.matmul(matrix_1, matrix_2).trace()\n",
    "\n",
    "\n",
    "def tensor_product(matrices):\n",
    "    ''' \n",
    "    Recursive function to compute the tensor product of n-pauli matrices\n",
    "    Ex: - \\sigma_x \\otimes \\sigma_y\n",
    "        - \\sigma_z \\otimes \\sigma_z \\otimes \\sigma_z\n",
    "    '''\n",
    "    matrix_1 = pauli_matrices[matrices[0]] if isinstance(matrices[0], str) else matrices[0]\n",
    "    matrix_2 = pauli_matrices[matrices[1]]\n",
    "\n",
    "    if len(matrices) == 2:\n",
    "        return np.kron(matrix_1, matrix_2)\n",
    "    else:\n",
    "        new_operator = np.kron(matrix_1, matrix_2)\n",
    "\n",
    "        matrices = (new_operator, *matrices[2:])\n",
    "        return tensor_product(matrices)\n",
    "\n",
    "    \n",
    "def is_power_of_two(n): \n",
    "    if (n == 0): \n",
    "        return False\n",
    "    while (n != 1): \n",
    "            if (n % 2 != 0): \n",
    "                return False\n",
    "            n = n // 2  \n",
    "    return True\n",
    "\n",
    "\n",
    "def print_operators(operators):\n",
    "    renaming_op = {'sigma_x': 'X', 'sigma_y': 'Y', 'sigma_z': 'Z', 'identity': 'I'}\n",
    "    chain = str()\n",
    "    for operator in operators:\n",
    "        chain += (renaming_op[operator] + ' \\otimes ')\n",
    "    return ' '.join(chain.split(' ')[:-2]) \n",
    "\n",
    "\n",
    "def check_properties(hamiltonian):\n",
    "    x_dim, y_dim = hamiltonian.shape\n",
    "    if x_dim != y_dim:\n",
    "        raise ValueError(\"Hamiltonian must be an square matrix with shape nxn\") \n",
    "    hermitian_h = hamiltonian.transpose().conjugate()\n",
    "    \n",
    "    if not np.allclose(hermitian_h, hamiltonian):\n",
    "        raise ValueError(\"Hamiltonian is not hermitian\")\n",
    "        \n",
    "    num_matrices = np.log2(x_dim)\n",
    "    if not is_power_of_two(num_matrices):\n",
    "        raise NotImplementedError(\"Dimension should be a power 2. Generalizations of Pauli matrices for other dimensions is not implemented\")\n",
    "    \n",
    "    return x_dim, num_matrices"
   ]
  },
  {
   "cell_type": "code",
   "execution_count": 5,
   "metadata": {},
   "outputs": [
    {
     "name": "stdout",
     "output_type": "stream",
     "text": [
      "(-0.5+0j) X \\otimes X\n",
      "(-0.5+0j) Y \\otimes Y\n",
      "(0.5+0j) Z \\otimes Z\n",
      "(0.5+0j) I \\otimes I\n",
      "\n"
     ]
    }
   ],
   "source": [
    "print(decompose(hamiltonian))"
   ]
  },
  {
   "cell_type": "markdown",
   "metadata": {},
   "source": [
    "So our hamiltonian can be written as: \n",
    "\n",
    "$$ H = \\frac{II+\\sigma_{z}\\sigma_{z}}{2} - \\frac{\\sigma_{x}\\sigma_{x}+ \\sigma_{y}\\sigma_{y}}{2}$$"
   ]
  },
  {
   "cell_type": "markdown",
   "metadata": {},
   "source": [
    "**Details about Hamiltonian decomposition.**\n",
    "\n",
    "First of all, it is important to know how to decompose a vector $\\vec{v}$ in terms of an orthogonal basis (ex: standard basis). If you need to refresh this concept I would recommend this [video](https://www.youtube.com/watch?v=joa11IB4maQ&ab_channel=MathTheBeautiful).\n",
    "\n",
    "Now, as I said before $\\{ I, \\sigma_{z}, \\sigma_{x}, \\sigma_{y}\\}$ is a basis that span a 2-dimensional Hilbert spaces. Then, as we already know a hamiltonian that represent a quantum system also lives in a Hilbert space, hence if our hamiltonian is a $2 \\times 2$ matrix \n",
    "\n",
    "$$ H = \\begin{bmatrix} 5 & 1 \\\\ 1 & -1 \\end{bmatrix} $$\n",
    "\n",
    "can be rewritten in terms of the previous basis   \n",
    "\n",
    "$$ H = \\alpha I + \\beta \\sigma_{z} + \\gamma \\sigma_{x} + \\delta \\sigma_{y}. $$\n",
    "\n",
    "To figure out the components $(\\alpha, \\beta, \\gamma, \\delta)$, we also the same trick from the previous [video](https://www.youtube.com/watch?v=joa11IB4maQ&ab_channel=MathTheBeautiful) called **inner product**. Nevertheless, we are not dealing with an ordinary orthogonal basis (vector), but we are dealing with matrices. So, we need a generalization of the inner product for these matrices called **Hilbert-Schmidt product**.  \n",
    "\n",
    "$$ \\langle A, B \\rangle = \\mathrm{Tr}(A^{\\dagger}B) $$\n",
    "\n",
    "Next, step is to find out the components. Remember, Pauli matrices are hermitian, so $\\sigma_{z}^{\\dagger} = \\sigma_z$.\n",
    "\n",
    "$$\\mathrm{Tr}(\\sigma_{z}H)=\\alpha \\mathrm{Tr}(\\sigma_{z}I)+\\beta\\mathrm{Tr}(\\sigma_{z}\\sigma_{z})+\\gamma\\mathrm{Tr}(\\sigma_{z}\\sigma_{x})+\\delta\\mathrm{Tr}(\\sigma_{z}\\sigma_{y}) $$\n",
    "\n",
    "All terms are traceless, except $\\mathrm{Tr}(\\sigma_{z}\\sigma_{z})=6$.   \n",
    "\n",
    "$$\\mathrm{Tr}(\\sigma_{z}H)= 6$$\n",
    "$$\\alpha \\mathrm{Tr}(\\sigma_{z}I)+\\beta\\mathrm{Tr}(\\sigma_{z}\\sigma_{z})+\\gamma\\mathrm{Tr}(\\sigma_{z}\\sigma_{x})+\\delta\\mathrm{Tr}(\\sigma_{z}\\sigma_{y})=2\\beta$$\n",
    "\n",
    "Then $\\beta=3$. So, I implented this method in a python function called **decompose**: \n",
    "\n",
    "```python\n",
    "H_2x2 = np.array([[5,1],[1, -1]])\n",
    "print(decompose(H_2x2))\n",
    "```\n",
    "\n",
    "and we get \n",
    "\n",
    "$$ H_{2\\times 2} = \\sigma_{x} + 3\\sigma_{z} + 2I $$\n",
    "\n",
    "But, our current Hamiltonian belongs to 4-dimensional Hilbert-space, is it possible to generalize this method? Luckily, yes. However, the complexity increases exponentially, because in order to represent a 4-dimensional Hilbert-space we compute all combinations of tensor products between two Pauli matrices. Such that the hamiltonian is written as\n",
    "\n",
    "$$ H = \n",
    "\\alpha_1 \\sigma_x \\otimes \\sigma_x + \\alpha_2 \\sigma_x \\otimes \\sigma_y + \\alpha_3 \\sigma_x \\otimes \\sigma_z + \\alpha_4 \\sigma_x \\otimes I +\\\\ \n",
    "\\alpha_5 \\sigma_y \\otimes \\sigma_y + \\alpha_6 \\sigma_y \\otimes \\sigma_x + \\alpha_7 \\sigma_y \\otimes \\sigma_z + \\alpha_8 \\sigma_y \\otimes I +\\\\ \n",
    "\\alpha_9 \\sigma_z \\otimes \\sigma_z + \\alpha_{10} \\sigma_z \\otimes \\sigma_x + \\alpha_{11} \\sigma_z \\otimes \\sigma_y + \\alpha_{12} \\sigma_z \\otimes I +\\\\ \n",
    "\\alpha_{13} I \\otimes I + \\alpha_{14} I \\otimes \\sigma_x + \\alpha_{15} I \\otimes \\sigma_y + \\alpha_{16}  I \\otimes \\sigma_z \\\\ \n",
    "$$\n",
    "\n",
    "Using the function **decompose**, we will get all the non-zero components ($a_i$) and get the Hamiltonian rewritten into as the sum of the Pauli matrix tensor products.\n",
    "\n",
    "\n",
    "**references:**  \n",
    "https://quantumcomputing.stackexchange.com/questions/6882/decomposition-of-a-matrix-in-the-pauli-basis\n",
    "https://quantumcomputing.stackexchange.com/questions/8725/can-arbitrary-matrices-be-decomposed-using-the-pauli-basis\n",
    "https://michaelgoerz.net/notes/decomposing-two-qubit-hamiltonians-into-pauli-matrices.html"
   ]
  },
  {
   "cell_type": "markdown",
   "metadata": {},
   "source": [
    "### 2nd Step: Ansatz\n",
    "\n",
    "Choosing a good ansatz is complicate because you need to balance two opposite things.\n",
    "1. Construct a state $ \\left| \\psi \\right\\rangle $ that is able to generate all or almost all the states in the Hilbert space.\n",
    "2. Construct a quantum circuit with as few parameters as possible. \n",
    "\n",
    "As you may expect an ansatz with a few parameters will not visit the entire Hilbert space and ansatz that is able to visit the entire Hilbert space will have a lot of parameters.  However, in a 4-dimensional Hilbert space we can implement both ansatzes. In higher Hilbert space option 1 it is impossible to implement for a VQE algorithm because the classical optimizer is not able to handle an exponential number of parameters as the system grows.\n",
    "\n",
    "In this case, I will initialize the circuit with the best ansatz:\n",
    "\n",
    "$$ (R_x \\otimes I) C_{NOT} (H \\otimes I) \\left| 0 \\right\\rangle \\otimes \\left| 0 \\right\\rangle $$\n",
    "\n",
    "Why is it the best ansatz? Because using numpy I've already computed the ground state and I know in which places of the Hilbert space to look for. I already know that the ground state is: \n",
    "\n",
    "$$\\frac{1}{\\sqrt{2}}\\big[ \\left|01\\right\\rangle + \\left|10\\right\\rangle \\big]$$\n",
    "\n",
    "So I need to build a circuit that will provide this step. It is important to notice that, this state is called [Bell state](https://en.wikipedia.org/wiki/Bell_state) and it is really famous because it is a state of maximum entanglement between 2 qubits. Additionally, it is related to a famous paradox called [EPR paradox](https://en.wikipedia.org/wiki/EPR_paradox).\n",
    "\n",
    "Due to I knew it was a Bell state, I just need to Google: how to implement a Bell state? The answer is using a Hadamard gate and then a Control-Not gate.\n",
    "\n",
    "<img src=\"images/Bell_state_00.png\" alt=\"drawing\"/>\n",
    "\n",
    "So using this circuit our initial state $\\left|00\\right\\rangle$ becomes\n",
    "\n",
    "$$\\frac{1}{\\sqrt{2}}\\big[ \\left|00\\right\\rangle + \\left|11\\right\\rangle \\big]$$\n",
    "\n",
    "Lastly, we need to apply a rotation in the x-axis to get the ground state, then we will use a $R_x$ gate. A $R_y$ gate won't work because it will lead us to the state $\\frac{1}{\\sqrt{2}}\\big[ \\left|10\\right\\rangle -\\left|01\\right\\rangle \\big]$. So, my variational parameter will be $\\theta$ (rotation angle on the x-axis). After several iterations on VQE, the classical optimizer will find out which is the value of $\\theta$ that outputs this state:\n",
    "$$\\frac{1}{\\sqrt{2}}\\big[ \\left|01\\right\\rangle + \\left|10\\right\\rangle \\big]$$.\n",
    "\n",
    "\n",
    "$$ R_x = \\begin{bmatrix} \\cos{\\frac{\\theta}{2}} & -i\\sin{\\frac{\\theta}{2}} \\\\ -i\\sin{\\frac{\\theta}{2}} & \\cos{\\frac{\\theta}{2}} \\end{bmatrix} $$"
   ]
  },
  {
   "cell_type": "code",
   "execution_count": 6,
   "metadata": {},
   "outputs": [],
   "source": [
    "def ansatz(circuit, theta):\n",
    "    q = circuit.qregs[0]    \n",
    "    circuit.h(q[0])\n",
    "    circuit.cx(q[0], q[1])\n",
    "    circuit.rx(theta, q[0])\n",
    "    return circuit"
   ]
  },
  {
   "cell_type": "markdown",
   "metadata": {},
   "source": [
    "### 3rd step: Measurements\n",
    "\n",
    "Now, with the above quantum circuit we have a quantum state $ \\left | \\psi(\\theta) \\right\\rangle$. So our next step is to compute the energy, or in other words the expected value of this state. \n",
    "\n",
    "$$ E_{\\theta} =\\left\\langle \\psi(\\theta) \\right| H \\left| \\psi(\\theta) \\right\\rangle$$\n",
    "\n",
    "We can measure the expected value of Hamiltonian $\\left\\langle  H \\right\\rangle = \\left\\langle \\psi \\right| H \\left| \\psi \\right\\rangle$ doing separate measurements on each term. \n",
    "\n",
    "$$ \\left\\langle \\psi \\right| H \\left| \\psi \\right\\rangle = \\frac{\\left\\langle \\psi \\right| II \\left| \\psi \\right\\rangle +   \\left\\langle \\psi \\right| \\sigma_z \\sigma_z \\left| \\psi \\right\\rangle}{2}     -  \\frac{\\left\\langle \\psi \\right| \\sigma_x \\sigma_x \\left| \\psi \\right\\rangle  + \\left\\langle \\psi \\right| \\sigma_y \\sigma_y \\left| \\psi \\right\\rangle}{2}.$$\n",
    "\n",
    "But, we need to be very careful about the basis because a quantum computer only performs measurements in the $\\sigma_z$ basis: $\\{ \\left| 0 \\right\\rangle, \\left| 1 \\right\\rangle \\}$. However, the Hamiltonian is decomposed into $ \\{ I, \\sigma_z, \\sigma_x, \\sigma_y\\} $, the problem is that $ \\sigma_x $ and $\\sigma_y$ operators have a diffferent basis $( \\{ \\left| + \\right\\rangle, \\left| - \\right\\rangle \\} $ and $( \\{ \\left| +i \\right\\rangle, \\left| -i \\right\\rangle \\} $, respectively. Hence, we need to express these 2 basis in terms of the basis the computational basis $\\{ \\left| 0 \\right\\rangle, \\left| 1 \\right\\rangle \\}$.\n",
    "\n",
    "To transform $( \\{ \\left| + \\right\\rangle, \\left| - \\right\\rangle \\} $ into $\\{ \\left| 0 \\right\\rangle, \\left| 1 \\right\\rangle \\}$ we will use\n",
    "\n",
    "$$ H_{gate} = \\frac{1}{\\sqrt{2}} \\begin{bmatrix} 1 & 1 \\\\ 1 & -1 \\end{bmatrix}. $$ \n",
    "\n",
    "To transform $( \\{ \\left| +i \\right\\rangle, \\left| - i\\right\\rangle \\} $ into $\\{ \\left| 0 \\right\\rangle, \\left| 1 \\right\\rangle \\}$ we will use\n",
    "\n",
    "$$ Y_{gate} = \\frac{1}{\\sqrt{2}} \\begin{bmatrix} 1 & -i \\\\ 1 & i \\end{bmatrix}. $$ \n",
    "\n"
   ]
  },
  {
   "cell_type": "code",
   "execution_count": 7,
   "metadata": {},
   "outputs": [
    {
     "name": "stdout",
     "output_type": "stream",
     "text": [
      "H_gate:\n",
      "[[ 1.+0.j  1.-0.j]\n",
      " [ 1.+0.j -1.+0.j]]\n",
      "Y_gate:\n",
      "[[ 1.+0.j -0.-1.j]\n",
      " [ 1.+0.j  0.+1.j]]\n"
     ]
    }
   ],
   "source": [
    "H_gate = U2Gate(0, np.pi).to_matrix()\n",
    "print(\"H_gate:\")\n",
    "print((H_gate * np.sqrt(2)).round(5))\n",
    "\n",
    "Y_gate = U2Gate(0, np.pi/2).to_matrix()\n",
    "print(\"Y_gate:\")\n",
    "print((Y_gate * np.sqrt(2)).round(5))"
   ]
  },
  {
   "cell_type": "markdown",
   "metadata": {},
   "source": [
    "With all this information we are able to implement a function to perform the measurements of our quantum circuit. But, I would like to explain what applying this matrix represent, to go into mathematical details on where $H_{gate}$ and $Y_{gate}$ come from I recommend this [tutorial](https://github.com/DavitKhach/quantum-algorithms-tutorials/blob/master/variational_quantum_eigensolver.ipynb).\n",
    "\n",
    "A single qubit state can be visualized in a Bloch sphere.\n",
    "\n",
    "<img src=\"images/bloch_sphere_basis.png\" alt=\"drawing\" width=\"400\"/>\n",
    "\n",
    "Imagine that our quantum state ($\\left| \\psi \\right\\rangle$ ) is $\\left| -i \\right\\rangle$."
   ]
  },
  {
   "cell_type": "code",
   "execution_count": 8,
   "metadata": {},
   "outputs": [
    {
     "data": {
      "image/png": "[encoded data removed]",
      "text/plain": [
       "<Figure size 360x360 with 1 Axes>"
      ]
     },
     "metadata": {},
     "output_type": "display_data"
    }
   ],
   "source": [
    "b_sphere=Bloch()\n",
    "vector = [0, -1, 0]\n",
    "b_sphere.add_vectors(vector)\n",
    "b_sphere.show()"
   ]
  },
  {
   "cell_type": "markdown",
   "metadata": {},
   "source": [
    "Then if, we apply an $Y_{gate}$ our state $\\left| -i \\right\\rangle$ it will stay at the same position. But the entire Bloch sphere will rotate 90-degree around the x-axis. After this rotation the state  $\\left| -i \\right\\rangle$ will be in the computational basis.  \n",
    "\n",
    "_$\\left| -i \\right\\rangle$ state is going to be mapped into the $\\left| 1 \\right\\rangle$_"
   ]
  },
  {
   "cell_type": "code",
   "execution_count": 9,
   "metadata": {},
   "outputs": [],
   "source": [
    "def quantum_circuit(parameter, measure):\n",
    "    # Set up a 2-qubits quantum circuit |00>\n",
    "    q = QuantumRegister(2)\n",
    "    c = ClassicalRegister(2)\n",
    "    circuit = QuantumCircuit(q, c)\n",
    "    \n",
    "    # Implementing the ansatz in the circuit\n",
    "    circuit = ansatz(circuit, parameter)\n",
    "    \n",
    "    # Measurements\n",
    "    circuit.barrier(q[0],q[1])\n",
    "    if measure == 'XX':\n",
    "        # H-gate \n",
    "        circuit.u2(0, np.pi, q[0])\n",
    "        circuit.u2(0, np.pi, q[1])\n",
    "        \n",
    "    elif measure == 'YY':\n",
    "        # Y-gate\n",
    "        circuit.u2(0, np.pi/2, q[0])\n",
    "        circuit.u2(0, np.pi/2, q[1])\n",
    "        \n",
    "    # 'ZZ' measurement dont require additional gates (Y-gate, H-gate)\n",
    "    circuit.measure(q[0], c[0])\n",
    "    circuit.measure(q[1], c[1])\n",
    "    \n",
    "    return circuit\n",
    "    "
   ]
  },
  {
   "cell_type": "code",
   "execution_count": 10,
   "metadata": {},
   "outputs": [
    {
     "data": {
      "image/png": "[encoded data removed]",
      "text/plain": [
       "<Figure size 670.628x204.68 with 1 Axes>"
      ]
     },
     "execution_count": 10,
     "metadata": {},
     "output_type": "execute_result"
    }
   ],
   "source": [
    "# Let's draw the circuit.\n",
    "parameter = 0\n",
    "measure ='YY'\n",
    "circuit = quantum_circuit(parameter, measure)\n",
    "circuit.draw('mpl')"
   ]
  },
  {
   "cell_type": "markdown",
   "metadata": {},
   "source": [
    "### 4th step: Expected values.\n",
    "\n",
    "Finally, once we are sure that each hamiltonian term will be evaluated on the computational basis we can compute the expected value.\n",
    "\n",
    "In a 1-qubit system after a measurement we get either  $\\left| 0 \\right\\rangle$ or $\\left| 1 \\right\\rangle $. However in a 2-qubit system there are more possible outcomes: $\\left| 00 \\right\\rangle$, $\\left| 01 \\right\\rangle$, $\\left| 10 \\right\\rangle$ and $\\left| 11 \\right\\rangle$.  \n",
    "\n",
    "To compute the expected value on this basis we need to repeat the experiment $N$ times and count how many times each output is measured. \n",
    "\n",
    "$$\\left\\langle \\psi \\right| \\sigma_z \\otimes \\sigma_z \\left| \\psi \\right\\rangle = \\frac{1}{N}(N_{00}\\left\\langle 00 \\right| \\sigma_z \\otimes \\sigma_z \\left| 00 \\right\\rangle + N_{11}\\left\\langle 11 \\right| \\sigma_z \\otimes \\sigma_z \\left| 11 \\right\\rangle + N_{10}\\left\\langle 10 \\right| \\sigma_z \\otimes \\sigma_z \\left| 10 \\right\\rangle + N_{01}\\left\\langle 01 \\right| \\sigma_z \\otimes \\sigma_z \\left| 01 \\right\\rangle)$$\n",
    "\n",
    "_Remember other terms like $\\left\\langle \\psi \\right| \\sigma_x \\otimes \\sigma_x \\left| \\psi \\right\\rangle$ or $\\left\\langle \\psi \\right| \\sigma_y \\otimes \\sigma_y \\left| \\psi \\right\\rangle$ will be computed in the same way since the physics of the state will not change, we will only rotate our Bloch sphere in order to measure the state in the computational basis._\n",
    "\n",
    "$$ \\left\\langle 00 \\right| \\sigma_z \\otimes \\sigma_z \\left| 00 \\right\\rangle = \\left\\langle 11 \\right| \\sigma_z \\otimes \\sigma_z \\left| 11 \\right\\rangle = 1 $$\n",
    "\n",
    "$$ \\left\\langle 01 \\right| \\sigma_z \\otimes \\sigma_z \\left| 01 \\right\\rangle = \\left\\langle 10 \\right| \\sigma_z \\otimes \\sigma_z \\left| 10 \\right\\rangle = -1 $$\n",
    "\n",
    "So, the expected value can be implemented as\n",
    "\n",
    "$$\\left\\langle \\psi \\right| \\sigma_z \\otimes \\sigma_z \\left| \\psi \\right\\rangle = \\frac{1}{N}(N_{00}+N_{11}-N_{01}-N_{10}) $$"
   ]
  },
  {
   "cell_type": "code",
   "execution_count": 11,
   "metadata": {},
   "outputs": [],
   "source": [
    "def measure_expected_value(parameter, measure, num_shots):\n",
    "    # To measure each term in the right basis.\n",
    "    if measure == 'II':\n",
    "        return 1\n",
    "    else:\n",
    "        circuit = quantum_circuit(parameter, measure)\n",
    "        \n",
    "    # Perform experiment n times to get expected values\n",
    "    backend = BasicAer.get_backend('qasm_simulator')\n",
    "    job = execute(circuit, backend, shots=num_shots)\n",
    "    result = job.result()\n",
    "    counts = result.get_counts()\n",
    "    \n",
    "    N00, N11 = counts.get('00', 0), counts.get('11', 0)\n",
    "    N01, N10 = counts.get('01', 0), counts.get('10', 0)\n",
    "    \n",
    "    expected_value = 1/num_shots*(N00 + N11 - N01 - N10)\n",
    "    return expected_value"
   ]
  },
  {
   "cell_type": "markdown",
   "metadata": {},
   "source": [
    "Next step is to get the expected energy of the system after $N$ shots. This step is easy to compute since we just need to sum up all terms. \n",
    "\n",
    "$$ \\left\\langle  H  \\right\\rangle = \\frac{\\left\\langle \\psi \\right| II \\left| \\psi \\right\\rangle +   \\left\\langle \\psi \\right| \\sigma_z \\sigma_z \\left| \\psi \\right\\rangle}{2}     -  \\frac{\\left\\langle \\psi \\right| \\sigma_x \\sigma_x \\left| \\psi \\right\\rangle  + \\left\\langle \\psi \\right| \\sigma_y \\sigma_y \\left| \\psi \\right\\rangle}{2}.$$\n",
    "\n",
    "The term $\\left\\langle \\psi \\right| II \\left| \\psi \\right\\rangle$ is trivial because $\\left\\langle \\psi \\right| II \\left| \\psi \\right\\rangle = \\left\\langle \\psi | \\psi \\right\\rangle = 1$"
   ]
  },
  {
   "cell_type": "code",
   "execution_count": 12,
   "metadata": {},
   "outputs": [],
   "source": [
    "def energy(parameter, coefficients, num_shots):\n",
    "    term_II = coefficients['II']*measure_expected_value(parameter, 'II', num_shots)\n",
    "    term_ZZ = coefficients['ZZ']*measure_expected_value(parameter, 'ZZ', num_shots)\n",
    "    term_XX = coefficients['XX']*measure_expected_value(parameter, 'XX', num_shots)\n",
    "    term_YY = coefficients['YY']*measure_expected_value(parameter, 'YY', num_shots)\n",
    "\n",
    "    return term_II+term_ZZ+term_XX+term_YY\n"
   ]
  },
  {
   "cell_type": "markdown",
   "metadata": {},
   "source": [
    "### 5th step: Finding $\\theta_{gs}$"
   ]
  },
  {
   "cell_type": "markdown",
   "metadata": {},
   "source": [
    "**Approach 1: Using an optimizer**\n",
    "\n",
    "As we said in the beginning VQE is a hybrid quantum-classical algorithm, so far all the steps are computed by a quantum computer. But the last step is to find the parameter $\\theta$ with the lowest energy, to tackle this problem will use a classical computer. Following the [qiskit documentation](https://qiskit.org/textbook/ch-applications/vqe-molecules.html#Parameter-Optimization), I will use COBYLA as my optimizer. \n",
    "\n",
    "_I also tried SLSQP, but it didn't work as I expected_"
   ]
  },
  {
   "cell_type": "code",
   "execution_count": 14,
   "metadata": {},
   "outputs": [
    {
     "name": "stdout",
     "output_type": "stream",
     "text": [
      "Energy ground state =  -1.0\n",
      "Theta ground state =  3.1328125 radians\n",
      "Theta ground state =  179.49693425582822 degree\n"
     ]
    }
   ],
   "source": [
    "# optimization parameters\n",
    "initial_guess = 1\n",
    "tolerance = 1e-9 \n",
    "\n",
    "# quantum system parameters\n",
    "coefficients = {'II':0.5, 'ZZ':0.5, 'XX':-0.5, 'YY':-0.5}\n",
    "num_shots = 1000\n",
    "\n",
    "\n",
    "optimal_theta = minimize(energy,\n",
    "                         x0=initial_guess,\n",
    "                         args=(coefficients, num_shots),\n",
    "                         method='COBYLA',\n",
    "                         tol=tolerance\n",
    "                        )\n",
    "print(\"Energy ground state = \", optimal_theta.fun)\n",
    "print(\"Theta ground state = \", optimal_theta.x, \"radians\")\n",
    "print(\"Theta ground state = \", optimal_theta.x*180/np.pi, \"degree\")"
   ]
  },
  {
   "cell_type": "markdown",
   "metadata": {},
   "source": [
    "**Approach 2: Using a for loop**\n",
    "\n",
    "Another approach is to simply loop all angles $\\theta \\in [0, 2\\pi)$ and find the state $\\left | \\psi(\\theta) \\right\\rangle$ with the lowest energy ($E_{gs}$).\n",
    "\n"
   ]
  },
  {
   "cell_type": "code",
   "execution_count": 15,
   "metadata": {},
   "outputs": [],
   "source": [
    "angles = np.linspace(0.0, 2.0 * np.pi, 360)\n",
    "coefficients={'II':0.5, 'ZZ':0.5, 'XX':-0.5, 'YY':-0.5}\n",
    "\n",
    "energies = list()\n",
    "for theta in angles:\n",
    "    E = energy(theta, coefficients, num_shots=1000)\n",
    "    energies.append(E)"
   ]
  },
  {
   "cell_type": "code",
   "execution_count": 16,
   "metadata": {},
   "outputs": [
    {
     "name": "stdout",
     "output_type": "stream",
     "text": [
      "Lowest energy:  -1.0\n",
      "Theta_ground state =  3.097837881255673 radians\n",
      "Theta_ground state =  177.49303621169912 degrees\n"
     ]
    }
   ],
   "source": [
    "print(\"Lowest energy: \", min(energies))\n",
    "theta_gs = angles[np.argmin(np.array(energies))]\n",
    "print(\"Theta_ground state = \", theta_gs, \"radians\")\n",
    "print(\"Theta_ground state = \", theta_gs*180/np.pi, \"degrees\")"
   ]
  },
  {
   "cell_type": "markdown",
   "metadata": {},
   "source": [
    "Using the second approach it is not a good idea because there are several values of $\\theta$ that lead to a $E_{gs}=-1$, so we can't figure out which $\\theta$ is the right one."
   ]
  },
  {
   "cell_type": "code",
   "execution_count": 17,
   "metadata": {},
   "outputs": [
    {
     "name": "stdout",
     "output_type": "stream",
     "text": [
      "sorted_energies =  [-1.    -1.    -1.    -1.    -0.999 -0.998 -0.998 -0.998 -0.997 -0.997]\n",
      "sorted_angles =  [179.49860724 180.50139276 178.49582173 177.49303621 181.50417827\n",
      " 176.4902507  183.5097493  182.50696379 185.51532033 184.51253482]\n"
     ]
    }
   ],
   "source": [
    "# Up to 4 values has the ground state value\n",
    "print(\"sorted_energies = \", np.sort(np.array(energies))[:10])\n",
    "print(\"sorted_angles = \", angles[np.argsort(np.array(energies))][:10]*180/np.pi) "
   ]
  },
  {
   "cell_type": "markdown",
   "metadata": {},
   "source": [
    "## Conclusion\n",
    "\n",
    "Using VQE algorithm, we end up really close to the correct value of $\\theta$. Both approaches are really close to $\\theta = 180º$. \n",
    "\n",
    "| $\\theta_{theoretical}$ | $\\theta_{COBYLA}$  | $\\theta_{loop}$   |\n",
    "|------------------------|--------------------|-------------------|\n",
    "|   180º                 |         179º       |    176º to 181º   |\n",
    "\n",
    "Although mathematically, there is only one possible state that lead us to the ground state. Using VQE, we see that there are other states that are **really really** close to the ground state."
   ]
  },
  {
   "cell_type": "code",
   "execution_count": 18,
   "metadata": {},
   "outputs": [
    {
     "data": {
      "image/png": "[encoded data removed]",
      "text/plain": [
       "<Figure size 432x288 with 1 Axes>"
      ]
     },
     "metadata": {
      "needs_background": "light"
     },
     "output_type": "display_data"
    }
   ],
   "source": [
    "plt.plot(angles*180/np.pi, energies)\n",
    "plt.xlabel(r\"$\\theta$ in degrees\")\n",
    "plt.ylabel(\"Energies\")\n",
    "plt.grid()\n",
    "plt.show()"
   ]
  },
  {
   "cell_type": "markdown",
   "metadata": {},
   "source": [
    "### References\n",
    "\n",
    "1. [Qiskit documentation](https://qiskit.org/textbook/ch-applications/vqe-molecules.html)\n",
    "2. [Code reference 1](https://github.com/walid-mk/VQE/blob/master/Task4/VQE.Noiseless.Simulator.Code1.ipynb)\n",
    "3. [Code reference 2](https://github.com/gllodra12/quantum-algorithms-tutorials/blob/master/variational_quantum_eigensolver.ipynb)\n",
    "4. [Advance code reference](https://nbviewer.jupyter.org/github/alexander-soare/framework-agnostic-vqe-tutorial/blob/master/02_Tutorial.ipynb)\n",
    "5. [VQE explained](https://www.mustythoughts.com/variational-quantum-eigensolver-explained)"
   ]
  },
  {
   "cell_type": "markdown",
   "metadata": {},
   "source": [
    "## Bonus\n",
    "\n",
    "In this section, I will focus on implementing things I would like to get a deeper knowledge about.\n",
    "\n",
    "I have 3 ideas as bonus exercise:\n",
    "1. Using a noise simulator\n",
    "2. Coding a universal ansatz for 4x4 Hamiltonian.\n",
    "3. Extending the previous code to solve a 8x8 Hamiltonian.\n",
    "\n",
    "_Idea number 3 it isn't not implemented, I have run out of time, besides I think implementing a universal ansatz will be more challenging than repeting the code from above with a tensor product of 3 Pauli matrices._\n"
   ]
  },
  {
   "cell_type": "markdown",
   "metadata": {},
   "source": [
    "### 1. Implementing VQE on a noise simulator.\n",
    "\n",
    "In this section, we generate a basic device noise model using qiskit package. This model can be further customize using the class QuantumError from qiskit. In addition qiskit class NoiseModel offer further more customization possibilities, we could add a probability error to each qubit using the method: depolarizing_error by the QuantumError class. But for now, we will use a basic noise model."
   ]
  },
  {
   "cell_type": "code",
   "execution_count": 19,
   "metadata": {},
   "outputs": [],
   "source": [
    "\n",
    "# Build noise model from backend properties\n",
    "provider = IBMQ.load_account()\n",
    "backend = provider.get_backend('ibmq_vigo')\n",
    "noise_model = NoiseModel.from_backend(backend)\n",
    "\n",
    "# Get coupling map from backend\n",
    "coupling_map = backend.configuration().coupling_map\n",
    "\n",
    "# Get basis gates from noise model\n",
    "basis_gates = noise_model.basis_gates"
   ]
  },
  {
   "cell_type": "code",
   "execution_count": 20,
   "metadata": {},
   "outputs": [],
   "source": [
    "def measure_expected_value_with_noise(parameter, measure, num_shots):\n",
    "    # To measure each term in the right basis.\n",
    "    if measure == 'II':\n",
    "        return 1\n",
    "    else:\n",
    "        circuit = quantum_circuit(parameter, measure)\n",
    "\n",
    "    # Perform experiment n times on a noise simulator\n",
    "    job = execute(circuit, \n",
    "                  backend=Aer.get_backend('qasm_simulator'),\n",
    "                  basis_gates=basis_gates,\n",
    "                  noise_model=noise_model,\n",
    "                  coupling_map=coupling_map,\n",
    "                  shots=num_shots,\n",
    "                  seed_simulator=0\n",
    "                 )\n",
    "    result = job.result()\n",
    "    counts = result.get_counts()\n",
    "    \n",
    "    N00, N11 = counts.get('00', 0), counts.get('11', 0)\n",
    "    N01, N10 = counts.get('01', 0), counts.get('10', 0)\n",
    "    \n",
    "    expected_value = 1/num_shots*(N00 + N11 - N01 - N10)\n",
    "    return expected_value"
   ]
  },
  {
   "cell_type": "code",
   "execution_count": 21,
   "metadata": {},
   "outputs": [],
   "source": [
    "def energy_with_noise(parameter, coefficients, num_shots):\n",
    "    term_II = coefficients['II']*measure_expected_value_with_noise(parameter, 'II', num_shots)\n",
    "    term_ZZ = coefficients['ZZ']*measure_expected_value_with_noise(parameter, 'ZZ', num_shots)\n",
    "    term_XX = coefficients['XX']*measure_expected_value_with_noise(parameter, 'XX', num_shots)\n",
    "    term_YY = coefficients['YY']*measure_expected_value_with_noise(parameter, 'YY', num_shots)\n",
    "\n",
    "    return term_II+term_ZZ+term_XX+term_YY"
   ]
  },
  {
   "cell_type": "code",
   "execution_count": 22,
   "metadata": {},
   "outputs": [
    {
     "name": "stdout",
     "output_type": "stream",
     "text": [
      "Energy ground state =  -0.8520000000000001\n",
      "Theta ground state =  3.125 radians\n",
      "Theta ground state =  179.04931097838227 degree\n"
     ]
    }
   ],
   "source": [
    "# optimization parameters\n",
    "initial_guess = 0\n",
    "tolerance = 1e-9 \n",
    "\n",
    "# quantum system parameters\n",
    "coefficients = {'II':0.5, 'ZZ':0.5, 'XX':-0.5, 'YY':-0.5}\n",
    "num_shots = 1000\n",
    "\n",
    "\n",
    "optimal_theta = minimize(energy_with_noise,\n",
    "                         x0=initial_guess,\n",
    "                         args=(coefficients, num_shots),\n",
    "                         method='COBYLA',\n",
    "                         tol=tolerance\n",
    "                        )\n",
    "print(\"Energy ground state = \", optimal_theta.fun)\n",
    "print(\"Theta ground state = \", optimal_theta.x, \"radians\")\n",
    "print(\"Theta ground state = \", optimal_theta.x*180/np.pi, \"degree\")"
   ]
  },
  {
   "cell_type": "code",
   "execution_count": 23,
   "metadata": {},
   "outputs": [],
   "source": [
    "angles = np.linspace(0.0, 2.0 * np.pi, 360)\n",
    "coefficients={'II':0.5, 'ZZ':0.5, 'XX':-0.5, 'YY':-0.5}\n",
    "\n",
    "energies_noise = list()\n",
    "for theta in angles:\n",
    "    E = energy_with_noise(theta, coefficients, num_shots=1000)\n",
    "    energies_noise.append(E)"
   ]
  },
  {
   "cell_type": "code",
   "execution_count": 24,
   "metadata": {},
   "outputs": [
    {
     "name": "stdout",
     "output_type": "stream",
     "text": [
      "sorted_noise_energies =  [-0.852 -0.852 -0.851 -0.851 -0.851 -0.851 -0.851 -0.85  -0.85  -0.85 ]\n",
      "sorted_noise_angles =  [179.49860724 180.50139276 182.50696379 181.50417827 178.49582173\n",
      " 176.4902507  177.49303621 175.48746518 183.5097493  184.51253482]\n"
     ]
    }
   ],
   "source": [
    "print(\"sorted_noise_energies = \", np.sort(np.array(energies_noise))[:10])\n",
    "print(\"sorted_noise_angles = \", angles[np.argsort(np.array(energies_noise))][:10]*180/np.pi) "
   ]
  },
  {
   "cell_type": "markdown",
   "metadata": {},
   "source": [
    "### Conclusion:\n",
    "\n",
    "In this case noise doesn't forbid us to find the true ground state ($\\theta=180º$), but since there are error in circuit, the expectation values are not compute correctly. I think that may be the reason why the ground energy in the noise case is greater than when the system is noiseless."
   ]
  },
  {
   "cell_type": "code",
   "execution_count": 26,
   "metadata": {},
   "outputs": [
    {
     "data": {
      "image/png": "[encoded data removed]",
      "text/plain": [
       "<Figure size 432x288 with 1 Axes>"
      ]
     },
     "metadata": {
      "needs_background": "light"
     },
     "output_type": "display_data"
    }
   ],
   "source": [
    "plt.plot(angles*180/np.pi, energies, label='noiseless')\n",
    "plt.plot(angles*180/np.pi, energies_noise, label='noise')\n",
    "plt.xlabel(r\"$\\theta$ in degrees\")\n",
    "plt.ylabel(\"Energies\")\n",
    "plt.legend()\n",
    "plt.grid()\n",
    "plt.show()"
   ]
  },
  {
   "cell_type": "markdown",
   "metadata": {},
   "source": [
    "## 2. Implementing a  universal parameterized 2-qubit circuit\n",
    "\n",
    "One thing, I was wondering at the beginning was: Would it be possible to build a general circuit to find the ground state of any 4x4 Hamiltonian? As you might expect, the answer is yes.\n",
    "\n",
    "My initial idea was to code a circuit from [paper 1](https://arxiv.org/pdf/quant-ph/0307177.pdf) or [paper 2](https://arxiv.org/pdf/quant-ph/0308033.pdf). But, in [paper 1](https://arxiv.org/pdf/quant-ph/0307177.pdf) I didn't understand how to get/code gates $u_1$ and $v_1$ from eq. 3 (I know the explanation is in another paper, but I couldn't understand it weel). On the other hand, [paper 2](https://arxiv.org/pdf/quant-ph/0308033.pdf) it is mathematically heavy and I will need more time to understand it. So, my last option left was to try implementing the circuit in [qiskit documentation](https://qiskit.org/textbook/ch-applications/vqe-molecules.html#Simple-Variational-Forms).\n",
    "\n",
    "I think, it is better to implement the circuit from [paper 1](https://arxiv.org/pdf/quant-ph/0307177.pdf) or [paper 2](https://arxiv.org/pdf/quant-ph/0308033.pdf), because there are less parameters to optimize, if anyone is willing to share their code, I will be delightful to see a code implementation about any of the two papers. "
   ]
  },
  {
   "cell_type": "code",
   "execution_count": 27,
   "metadata": {},
   "outputs": [],
   "source": [
    "def universal_ansatz(circuit, parameters):\n",
    "    q = circuit.qregs[0]\n",
    "\n",
    "    # First layer\n",
    "    circuit.u3(parameters[0], parameters[1], parameters[2], q[0])\n",
    "    circuit.u3(parameters[3], parameters[4], parameters[5], q[1])\n",
    "    circuit.cx(q[0], q[1])\n",
    "    \n",
    "    # Second layer\n",
    "    circuit.u3(parameters[6], parameters[7], parameters[8], q[0])\n",
    "    circuit.u3(parameters[9], parameters[10], parameters[11], q[1])\n",
    "    circuit.cx(q[1], q[0])\n",
    "    \n",
    "    # Third layer\n",
    "    circuit.u3(parameters[12], parameters[13], parameters[14], q[0])\n",
    "    circuit.u3(parameters[15], parameters[16], parameters[17], q[1])\n",
    "    circuit.cx(q[0], q[1])\n",
    "    \n",
    "    return circuit"
   ]
  },
  {
   "cell_type": "code",
   "execution_count": 28,
   "metadata": {},
   "outputs": [],
   "source": [
    "def universal_measurement(measure, circuit, q_regs, c_regs):\n",
    "    circuit.barrier(q_regs[0],q_regs[1])\n",
    "    \n",
    "    # Measure X or Y basis\n",
    "    for qubit_num, matrix in enumerate(measure):\n",
    "        if matrix == 'X':\n",
    "            circuit.u2(0, np.pi, q_regs[qubit_num])\n",
    "\n",
    "        elif matrix == 'Y':\n",
    "            circuit.u2(0, np.pi/2, q_regs[qubit_num])\n",
    "\n",
    "    # Measure Z-basis\n",
    "    circuit.barrier(q_regs[0],q_regs[1])\n",
    "    circuit.measure(q_regs[0], c_regs[0])\n",
    "    circuit.measure(q_regs[1], c_regs[1])\n",
    "    \n",
    "    return circuit"
   ]
  },
  {
   "cell_type": "code",
   "execution_count": 29,
   "metadata": {},
   "outputs": [],
   "source": [
    "def universal_quantum_circuit(parameters, measure):\n",
    "    # Set up a 2-qubits quantum circuit |00>\n",
    "    q = QuantumRegister(2)\n",
    "    c = ClassicalRegister(2)\n",
    "\n",
    "    circuit = QuantumCircuit(q, c)\n",
    "    \n",
    "    # Implementing the ansatz in the circuit\n",
    "    circuit = universal_ansatz(circuit, parameters)\n",
    "    \n",
    "    # Measurments\n",
    "    circuit = universal_measurement(measure, circuit, q, c)\n",
    "    \n",
    "    return circuit\n",
    "    "
   ]
  },
  {
   "cell_type": "code",
   "execution_count": 30,
   "metadata": {},
   "outputs": [
    {
     "data": {
      "image/png": "[encoded data removed]",
      "text/plain": [
       "<Figure size 1124.54x204.68 with 1 Axes>"
      ]
     },
     "execution_count": 30,
     "metadata": {},
     "output_type": "execute_result"
    }
   ],
   "source": [
    "# Draw circuit\n",
    "measure='YI'\n",
    "initial_guess = np.random.random(18)\n",
    "circ = universal_quantum_circuit(parameters=initial_guess, measure=measure)\n",
    "circ.draw('mpl')"
   ]
  },
  {
   "cell_type": "markdown",
   "metadata": {},
   "source": [
    "Now, we should be careful because not all the cases will be like: \n",
    "$$\\left\\langle \\psi \\right| \\sigma_z \\otimes \\sigma_z \\left| \\psi \\right\\rangle = \\frac{1}{N}(N_{00}+N_{11}-N_{01}-N_{10}) $$  \n",
    "\n",
    "In case, the Hamiltonian is decomposed in $I\\otimes \\sigma_x$, the expected value formula would be:\n",
    "$$\\left\\langle \\psi \\right| I \\otimes \\sigma_x \\left| \\psi \\right\\rangle = \\frac{1}{N}(N_{00}+N_{10}-N_{01}-N_{11}) $$  \n",
    "\n",
    "Other cases are also computed in the code below."
   ]
  },
  {
   "cell_type": "code",
   "execution_count": 31,
   "metadata": {},
   "outputs": [],
   "source": [
    "def get_expected_value(measure, counts, num_shots):\n",
    "    matrix_1, matrix_2 = measure\n",
    "    \n",
    "    N00, N11 = counts.get('00', 0), counts.get('11', 0)\n",
    "    N01, N10 = counts.get('01', 0), counts.get('10', 0)\n",
    "    \n",
    "    if matrix_1 == 'I':\n",
    "        return 1/num_shots*(N00 - N11 - N01 + N10)\n",
    "    elif matrix_2 == 'I':\n",
    "        return 1/num_shots*(N00 - N11 + N01 - N10)\n",
    "    else:\n",
    "        return 1/num_shots*(N00 + N11 - N01 - N10)\n",
    "\n",
    "\n",
    "def simulating(parameter, measure, num_shots):\n",
    "    \"\"\"Compute the expected value of each Hamiltonian term \"\"\"\n",
    "    # To measure each term in the right basis.\n",
    "    if measure == 'II':\n",
    "        return 1\n",
    "    else:\n",
    "        circuit = universal_quantum_circuit(parameter, measure)\n",
    "    \n",
    "    # Perform experiment n times to get expected values\n",
    "    backend = BasicAer.get_backend('qasm_simulator')\n",
    "    job = execute(circuit, backend, shots=num_shots)\n",
    "    result = job.result()\n",
    "    counts = result.get_counts()\n",
    "\n",
    "    return get_expected_value(measure, counts, num_shots)"
   ]
  },
  {
   "cell_type": "code",
   "execution_count": 32,
   "metadata": {},
   "outputs": [],
   "source": [
    "def energy(parameter, coefficients, num_shots, exp_value_func):\n",
    "    \"\"\" Sum each expected value term \"\"\"\n",
    "    energy = 0\n",
    "    for pauli_matricies, coef in coefficients.items():\n",
    "        energy += coef*exp_value_func(parameter, pauli_matricies, num_shots)\n",
    "        \n",
    "    return energy"
   ]
  },
  {
   "cell_type": "code",
   "execution_count": 33,
   "metadata": {},
   "outputs": [
    {
     "name": "stdout",
     "output_type": "stream",
     "text": [
      "Energy ground state =  -0.993\n",
      "Theta ground state =  [ 2.04882919  0.39120461 -0.26738242  2.10687363 -0.42191276  1.84950439\n",
      "  0.45376952  0.11558373  0.1992564   1.90414094  0.45271702 -0.30181542\n",
      "  1.25893085  0.44895654  0.1610525   0.59757018  1.62422063  1.4847822 ] radians\n",
      "Theta ground state =  [117.38926573  22.41437319 -15.31988438 120.71496676 -24.17382023\n",
      " 105.96879579  25.9990784    6.62245994  11.41655068 109.09923919\n",
      "  25.9387748  -17.29274954  72.13142441  25.72331506   9.22762879\n",
      "  34.23824929  93.06098693  85.07175354] degree\n"
     ]
    }
   ],
   "source": [
    "# optimization parameters\n",
    "initial_guess = np.random.random(18)\n",
    "tolerance = 1e-9 \n",
    "\n",
    "# quantum system parameters\n",
    "coefficients = {'II':0.5, 'ZZ':0.5, 'XX':-0.5, 'YY':-0.5}\n",
    "num_shots = 1000\n",
    "func = simulating\n",
    "\n",
    "\n",
    "optimal_theta = minimize(energy,\n",
    "                         x0=initial_guess,\n",
    "                         args=(coefficients, num_shots, func),\n",
    "                         method='COBYLA',\n",
    "                         tol=tolerance\n",
    "                        )\n",
    "print(\"Energy ground state = \", optimal_theta.fun)\n",
    "print(\"Theta ground state = \", optimal_theta.x, \"radians\")\n",
    "print(\"Theta ground state = \", optimal_theta.x*180/np.pi, \"degree\")"
   ]
  },
  {
   "cell_type": "markdown",
   "metadata": {},
   "source": [
    "**Conclusion:**\n",
    "\n",
    "As you can see the ground energy is -0.992, but indeed $E_{gs}=-1$, so perhaps there is something wrong with the code. However, I personally believe that because there many parameters to optimize the optimization method is stucked in a local minimum and can't find the global minimum $E_{gs}=-1$. \n",
    "\n",
    "\n",
    "_Perhaps, someone with more experience than me will disagree (I will be happy, to get any feedback), but I think it is not worth it to code a general ansatz for this algorithm, there are too many parameters to optimize and I feel the code is overengineered. Even though, it has been a good experience to get a deeper knowledge about vqe_"
   ]
  }
 ],
 "metadata": {
  "kernelspec": {
   "display_name": "Python 3",
   "language": "python",
   "name": "python3"
  },
  "language_info": {
   "codemirror_mode": {
    "name": "ipython",
    "version": 3
   },
   "file_extension": ".py",
   "mimetype": "text/x-python",
   "name": "python",
   "nbconvert_exporter": "python",
   "pygments_lexer": "ipython3",
   "version": "3.7.6"
  }
 },
 "nbformat": 4,
 "nbformat_minor": 4
}
